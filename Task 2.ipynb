{
 "cells": [
  {
   "cell_type": "markdown",
   "id": "d6322db5",
   "metadata": {},
   "source": [
    "# The Sparks Foundation - Data Science and Business Analytics Intern"
   ]
  },
  {
   "cell_type": "markdown",
   "id": "4c98135a",
   "metadata": {},
   "source": [
    "# Task 2 - Prediction using Unsupervised ML"
   ]
  },
  {
   "cell_type": "markdown",
   "id": "eede4212",
   "metadata": {},
   "source": [
    "Unsupervised learning is a type of machine learning in which models are trained using unlabeled dataset and are allowed to act on that data without any supervision.\n"
   ]
  },
  {
   "cell_type": "markdown",
   "id": "dda8b6af",
   "metadata": {},
   "source": [
    "From the given 'Iris' dataset predict the optimum numbmer of clusters and represent it visually.\n",
    "This can be sloved using K-means clustering."
   ]
  },
  {
   "cell_type": "markdown",
   "id": "25c2355e",
   "metadata": {},
   "source": [
    "# Clustering :"
   ]
  },
  {
   "cell_type": "markdown",
   "id": "57bc8001",
   "metadata": {},
   "source": [
    "Clustering is a method of grouping the objects into clusters such that objects with most similarities remains into a group and has less or no similarities with the objects of another group. Cluster analysis finds the commonalities between the data objects and categorizes them as per the presence and absence of those commonalities."
   ]
  },
  {
   "cell_type": "code",
   "execution_count": 1,
   "id": "fc9d3882",
   "metadata": {},
   "outputs": [],
   "source": [
    "# Importing required Libraries.\n",
    "\n",
    "import pandas as pd\n",
    "import numpy as np\n",
    "import matplotlib.pyplot as plt\n",
    "import seaborn as sns\n",
    "from sklearn import datasets"
   ]
  },
  {
   "cell_type": "code",
   "execution_count": 2,
   "id": "6cd44297",
   "metadata": {},
   "outputs": [
    {
     "data": {
      "text/html": [
       "<div>\n",
       "<style scoped>\n",
       "    .dataframe tbody tr th:only-of-type {\n",
       "        vertical-align: middle;\n",
       "    }\n",
       "\n",
       "    .dataframe tbody tr th {\n",
       "        vertical-align: top;\n",
       "    }\n",
       "\n",
       "    .dataframe thead th {\n",
       "        text-align: right;\n",
       "    }\n",
       "</style>\n",
       "<table border=\"1\" class=\"dataframe\">\n",
       "  <thead>\n",
       "    <tr style=\"text-align: right;\">\n",
       "      <th></th>\n",
       "      <th>sepal length (cm)</th>\n",
       "      <th>sepal width (cm)</th>\n",
       "      <th>petal length (cm)</th>\n",
       "      <th>petal width (cm)</th>\n",
       "    </tr>\n",
       "  </thead>\n",
       "  <tbody>\n",
       "    <tr>\n",
       "      <th>0</th>\n",
       "      <td>5.1</td>\n",
       "      <td>3.5</td>\n",
       "      <td>1.4</td>\n",
       "      <td>0.2</td>\n",
       "    </tr>\n",
       "    <tr>\n",
       "      <th>1</th>\n",
       "      <td>4.9</td>\n",
       "      <td>3.0</td>\n",
       "      <td>1.4</td>\n",
       "      <td>0.2</td>\n",
       "    </tr>\n",
       "    <tr>\n",
       "      <th>2</th>\n",
       "      <td>4.7</td>\n",
       "      <td>3.2</td>\n",
       "      <td>1.3</td>\n",
       "      <td>0.2</td>\n",
       "    </tr>\n",
       "    <tr>\n",
       "      <th>3</th>\n",
       "      <td>4.6</td>\n",
       "      <td>3.1</td>\n",
       "      <td>1.5</td>\n",
       "      <td>0.2</td>\n",
       "    </tr>\n",
       "    <tr>\n",
       "      <th>4</th>\n",
       "      <td>5.0</td>\n",
       "      <td>3.6</td>\n",
       "      <td>1.4</td>\n",
       "      <td>0.2</td>\n",
       "    </tr>\n",
       "  </tbody>\n",
       "</table>\n",
       "</div>"
      ],
      "text/plain": [
       "   sepal length (cm)  sepal width (cm)  petal length (cm)  petal width (cm)\n",
       "0                5.1               3.5                1.4               0.2\n",
       "1                4.9               3.0                1.4               0.2\n",
       "2                4.7               3.2                1.3               0.2\n",
       "3                4.6               3.1                1.5               0.2\n",
       "4                5.0               3.6                1.4               0.2"
      ]
     },
     "execution_count": 2,
     "metadata": {},
     "output_type": "execute_result"
    }
   ],
   "source": [
    "#Loading Iris dataset\n",
    "#Reading the dataset from source\n",
    "iris=datasets.load_iris()\n",
    "iris_df=pd.DataFrame(iris.data,columns=iris.feature_names)\n",
    "iris_df.head(5) #printing head of the data"
   ]
  },
  {
   "cell_type": "code",
   "execution_count": 3,
   "id": "8269bd08",
   "metadata": {},
   "outputs": [
    {
     "name": "stdout",
     "output_type": "stream",
     "text": [
      "<class 'pandas.core.frame.DataFrame'>\n",
      "RangeIndex: 150 entries, 0 to 149\n",
      "Data columns (total 4 columns):\n",
      " #   Column             Non-Null Count  Dtype  \n",
      "---  ------             --------------  -----  \n",
      " 0   sepal length (cm)  150 non-null    float64\n",
      " 1   sepal width (cm)   150 non-null    float64\n",
      " 2   petal length (cm)  150 non-null    float64\n",
      " 3   petal width (cm)   150 non-null    float64\n",
      "dtypes: float64(4)\n",
      "memory usage: 4.8 KB\n"
     ]
    }
   ],
   "source": [
    "iris_df.info() #getting data information."
   ]
  },
  {
   "cell_type": "code",
   "execution_count": 4,
   "id": "f7afabca",
   "metadata": {},
   "outputs": [
    {
     "data": {
      "text/html": [
       "<div>\n",
       "<style scoped>\n",
       "    .dataframe tbody tr th:only-of-type {\n",
       "        vertical-align: middle;\n",
       "    }\n",
       "\n",
       "    .dataframe tbody tr th {\n",
       "        vertical-align: top;\n",
       "    }\n",
       "\n",
       "    .dataframe thead th {\n",
       "        text-align: right;\n",
       "    }\n",
       "</style>\n",
       "<table border=\"1\" class=\"dataframe\">\n",
       "  <thead>\n",
       "    <tr style=\"text-align: right;\">\n",
       "      <th></th>\n",
       "      <th>sepal length (cm)</th>\n",
       "      <th>sepal width (cm)</th>\n",
       "      <th>petal length (cm)</th>\n",
       "      <th>petal width (cm)</th>\n",
       "    </tr>\n",
       "  </thead>\n",
       "  <tbody>\n",
       "    <tr>\n",
       "      <th>count</th>\n",
       "      <td>150.000000</td>\n",
       "      <td>150.000000</td>\n",
       "      <td>150.000000</td>\n",
       "      <td>150.000000</td>\n",
       "    </tr>\n",
       "    <tr>\n",
       "      <th>mean</th>\n",
       "      <td>5.843333</td>\n",
       "      <td>3.057333</td>\n",
       "      <td>3.758000</td>\n",
       "      <td>1.199333</td>\n",
       "    </tr>\n",
       "    <tr>\n",
       "      <th>std</th>\n",
       "      <td>0.828066</td>\n",
       "      <td>0.435866</td>\n",
       "      <td>1.765298</td>\n",
       "      <td>0.762238</td>\n",
       "    </tr>\n",
       "    <tr>\n",
       "      <th>min</th>\n",
       "      <td>4.300000</td>\n",
       "      <td>2.000000</td>\n",
       "      <td>1.000000</td>\n",
       "      <td>0.100000</td>\n",
       "    </tr>\n",
       "    <tr>\n",
       "      <th>25%</th>\n",
       "      <td>5.100000</td>\n",
       "      <td>2.800000</td>\n",
       "      <td>1.600000</td>\n",
       "      <td>0.300000</td>\n",
       "    </tr>\n",
       "    <tr>\n",
       "      <th>50%</th>\n",
       "      <td>5.800000</td>\n",
       "      <td>3.000000</td>\n",
       "      <td>4.350000</td>\n",
       "      <td>1.300000</td>\n",
       "    </tr>\n",
       "    <tr>\n",
       "      <th>75%</th>\n",
       "      <td>6.400000</td>\n",
       "      <td>3.300000</td>\n",
       "      <td>5.100000</td>\n",
       "      <td>1.800000</td>\n",
       "    </tr>\n",
       "    <tr>\n",
       "      <th>max</th>\n",
       "      <td>7.900000</td>\n",
       "      <td>4.400000</td>\n",
       "      <td>6.900000</td>\n",
       "      <td>2.500000</td>\n",
       "    </tr>\n",
       "  </tbody>\n",
       "</table>\n",
       "</div>"
      ],
      "text/plain": [
       "       sepal length (cm)  sepal width (cm)  petal length (cm)  \\\n",
       "count         150.000000        150.000000         150.000000   \n",
       "mean            5.843333          3.057333           3.758000   \n",
       "std             0.828066          0.435866           1.765298   \n",
       "min             4.300000          2.000000           1.000000   \n",
       "25%             5.100000          2.800000           1.600000   \n",
       "50%             5.800000          3.000000           4.350000   \n",
       "75%             6.400000          3.300000           5.100000   \n",
       "max             7.900000          4.400000           6.900000   \n",
       "\n",
       "       petal width (cm)  \n",
       "count        150.000000  \n",
       "mean           1.199333  \n",
       "std            0.762238  \n",
       "min            0.100000  \n",
       "25%            0.300000  \n",
       "50%            1.300000  \n",
       "75%            1.800000  \n",
       "max            2.500000  "
      ]
     },
     "execution_count": 4,
     "metadata": {},
     "output_type": "execute_result"
    }
   ],
   "source": [
    "iris_df.describe() #describing the data."
   ]
  },
  {
   "cell_type": "markdown",
   "id": "975be5a4",
   "metadata": {},
   "source": [
    "# Finding the number of clusters for K- means classification."
   ]
  },
  {
   "cell_type": "code",
   "execution_count": 5,
   "id": "e1c16a80",
   "metadata": {},
   "outputs": [
    {
     "data": {
      "text/plain": [
       "[681.3705999999996,\n",
       " 152.34795176035797,\n",
       " 78.851441426146,\n",
       " 57.22847321428572,\n",
       " 46.47223015873018,\n",
       " 39.03998724608725,\n",
       " 34.299712121212146,\n",
       " 30.063110617452732,\n",
       " 28.27172172856384,\n",
       " 26.094324740540422]"
      ]
     },
     "execution_count": 5,
     "metadata": {},
     "output_type": "execute_result"
    }
   ],
   "source": [
    "# Determining the value of K.\n",
    "\n",
    "x=iris_df.iloc[:,[0,1,2,3]].values #arranging data.\n",
    "# creating several cluster combinations and observeing wcss (within clustter sum of squares)\n",
    "from sklearn.cluster import KMeans\n",
    "import warnings\n",
    "warnings.filterwarnings('ignore')\n",
    "wcss=[]\n",
    "for i in range(1,11):\n",
    "    Kmeans = KMeans(n_clusters = i, init = 'k-means++',\n",
    "                    max_iter = 300 ,n_init = 10,random_state=0)\n",
    "    Kmeans.fit(x) # fitting the model on prepared data.\n",
    "    wcss.append(Kmeans.inertia_)\n",
    "wcss # returns wcss for specific value of k."
   ]
  },
  {
   "cell_type": "markdown",
   "id": "3de72c73",
   "metadata": {},
   "source": [
    "# Plotting the result onto a graph and to observe 'The elbow'."
   ]
  },
  {
   "cell_type": "code",
   "execution_count": 6,
   "id": "330e6b8e",
   "metadata": {},
   "outputs": [
    {
     "data": {
      "image/png": "[encoded data removed]",
      "text/plain": [
       "<Figure size 432x288 with 1 Axes>"
      ]
     },
     "metadata": {
      "needs_background": "light"
     },
     "output_type": "display_data"
    }
   ],
   "source": [
    "plt.plot(range(1,11),wcss)\n",
    "plt.title('The elbow method') # setting plot title and axis lables.\n",
    "plt.xlabel('Number of clusters')\n",
    "plt.ylabel('wcss(within cluster sum of squares)')\n",
    "plt.annotate(\"elbow\",xytext=(4,200),xy=(2.4,120),arrowprops={\"facecolor\":\"red\"})\n",
    "plt.grid()\n",
    "plt.show() #display graph"
   ]
  },
  {
   "cell_type": "markdown",
   "id": "4a03f84f",
   "metadata": {},
   "source": [
    "The plot with Number of clusters on x-axis and wcss(within cluster sum of squares) on y-axis."
   ]
  },
  {
   "cell_type": "markdown",
   "id": "07012800",
   "metadata": {},
   "source": [
    "The optimal clusters are formed where the elbow occurs.This is when the wcss(Within Cluster Sum of Squares) doesn't decrease with every iteration significantly.The Elbow method shows optimum value for K is 3."
   ]
  },
  {
   "cell_type": "markdown",
   "id": "7638d695",
   "metadata": {},
   "source": [
    "# Creating K-Means Classifier."
   ]
  },
  {
   "cell_type": "markdown",
   "id": "7bc18536",
   "metadata": {},
   "source": [
    "Here we are choosing the number of clusters as 3."
   ]
  },
  {
   "cell_type": "code",
   "execution_count": 7,
   "id": "8a878d9f",
   "metadata": {},
   "outputs": [],
   "source": [
    "Kmeans = KMeans(n_clusters = 3, init = 'k-means++',max_iter = 300 ,n_init = 10,random_state=0)\n",
    "y_kmeans=Kmeans.fit_predict(x)\n",
    "#y_kmeans"
   ]
  },
  {
   "cell_type": "markdown",
   "id": "5c0a916e",
   "metadata": {},
   "source": [
    "# Visualizing the Cluster data."
   ]
  },
  {
   "cell_type": "code",
   "execution_count": 8,
   "id": "2139940a",
   "metadata": {},
   "outputs": [
    {
     "data": {
      "image/png": "[encoded data removed]",
      "text/plain": [
       "<Figure size 432x288 with 1 Axes>"
      ]
     },
     "metadata": {
      "needs_background": "light"
     },
     "output_type": "display_data"
    }
   ],
   "source": [
    "#Visualizing the Cluster for the first 2 columns of data.\n",
    "plt.scatter(x[y_kmeans == 0,0],x[y_kmeans == 0,1],s=75,c='red',label='Iris-setosa')\n",
    "plt.scatter(x[y_kmeans == 1,0],x[y_kmeans == 1,1],s=75,c='blue',label='Iris-versicolour')\n",
    "plt.scatter(x[y_kmeans == 2,0],x[y_kmeans == 2,1],s=75,c='green',label='Iris-virginica')\n",
    "\n",
    "# Plotting the centroids of the clusters.\n",
    "plt.scatter(Kmeans.cluster_centers_[:,0],Kmeans.cluster_centers_[:,1],s=100,c='yellow',label='centroids')\n",
    "plt.legend(loc=1,bbox_to_anchor=(1.35,1),prop={\"size\":10})\n",
    "plt.show()"
   ]
  },
  {
   "cell_type": "code",
   "execution_count": 9,
   "id": "ef27df5e",
   "metadata": {},
   "outputs": [
    {
     "data": {
      "image/png": "[encoded data removed]",
      "text/plain": [
       "<Figure size 432x288 with 1 Axes>"
      ]
     },
     "metadata": {
      "needs_background": "light"
     },
     "output_type": "display_data"
    }
   ],
   "source": [
    "#Visualizing the Cluster for the last 2 columns of data.\n",
    "plt.scatter(x[y_kmeans == 0,2],x[y_kmeans == 0,3],s=75,c='red',label='Iris-setosa')\n",
    "plt.scatter(x[y_kmeans == 1,2],x[y_kmeans == 1,3],s=75,c='blue',label='Iris-versicolour')\n",
    "plt.scatter(x[y_kmeans == 2,2],x[y_kmeans == 2,3],s=75,c='green',label='Iris-virginica')\n",
    "\n",
    "# Plotting the centroids of the clusters.\n",
    "plt.scatter(Kmeans.cluster_centers_[:,2],Kmeans.cluster_centers_[:,3],s=100,c='yellow',label='centroids')\n",
    "plt.legend(loc=1,bbox_to_anchor=(1.35,1),prop={\"size\":10})\n",
    "plt.show()"
   ]
  },
  {
   "cell_type": "code",
   "execution_count": null,
   "id": "1688d411",
   "metadata": {},
   "outputs": [],
   "source": []
  }
 ],
 "metadata": {
  "kernelspec": {
   "display_name": "Python 3",
   "language": "python",
   "name": "python3"
  },
  "language_info": {
   "codemirror_mode": {
    "name": "ipython",
    "version": 3
   },
   "file_extension": ".py",
   "mimetype": "text/x-python",
   "name": "python",
   "nbconvert_exporter": "python",
   "pygments_lexer": "ipython3",
   "version": "3.8.8"
  }
 },
 "nbformat": 4,
 "nbformat_minor": 5
}
